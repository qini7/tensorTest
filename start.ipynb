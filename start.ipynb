{
 "cells": [
  {
   "cell_type": "code",
   "execution_count": null,
   "metadata": {
    "collapsed": true
   },
   "outputs": [],
   "source": [
    "import tensorflow as tf\n",
    "import numpy as np\n",
    "\n",
    "import PIL.Image\n",
    "from io import BytesIO\n",
    "from IPython.display import Image, display\n",
    "\n",
    "def DisplayFractal(a, fmt = 'jpeg'):\n",
    "    a_cyclic = (6.28 * a / 20.0).reshape(list(a.shape) + [1])\n",
    "    img = np.concatenate([10 + 20 * np.cos(a_cyclic),\n",
    "                        30 + 50 * np.sin(a_cyclic),\n",
    "                        155 - 80 * np.cos(a_cyclic)], 2)\n",
    "    img[a == a.max()] = 0\n",
    "    a = img\n",
    "    a = np.uint8(np.clip(a, 0, 255))\n",
    "    f = BytesIO()\n",
    "    PIL.Image.fromarray(a).save(f, fmt)\n",
    "    display(Image(data=f.getvalue()))\n",
    "\n",
    "\n",
    "sess = tf.InteractiveSession()\n",
    "\n",
    "Y, X = np.mgrid[-1.3:1.3:0.005, -2:1:0.005]\n",
    "Z = X + 1j * Y\n",
    "\n",
    "xs = tf.constant(Z.astype(np.complex64))\n",
    "zs = tf.Variable(xs)\n",
    "ns = tf.Variable(tf.zeros_like(xs, tf.float32))\n",
    "tf.global_variables_initializer().run()\n",
    "\n",
    "zs_ = zs * zs + xs\n",
    "not_diverged = tf.abs(zs_) < 4\n",
    "\n",
    "step = tf.group(\n",
    "                zs.assign(zs_),\n",
    "                ns.assign_add(tf.cast(not_diverged, tf.float32))\n",
    "                )\n",
    "for i in range(200): step.run()\n",
    "\n",
    "DisplayFractal(ns.eval())\n"
   ]
  }
 ],
 "metadata": {
  "kernelspec": {
   "display_name": "Python 3",
   "language": "python",
   "name": "python3"
  },
  "language_info": {
   "codemirror_mode": {
    "name": "ipython",
    "version": 3
   },
   "file_extension": ".py",
   "mimetype": "text/x-python",
   "name": "python",
   "nbconvert_exporter": "python",
   "pygments_lexer": "ipython3",
   "version": "3.5.2"
  }
 },
 "nbformat": 4,
 "nbformat_minor": 2
}
